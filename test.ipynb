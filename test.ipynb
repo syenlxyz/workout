{
 "cells": [
  {
   "cell_type": "code",
   "execution_count": 1,
   "metadata": {},
   "outputs": [],
   "source": [
    "from docx import Document\n",
    "from pathlib import Path\n",
    "import pandas as pd"
   ]
  },
  {
   "cell_type": "code",
   "execution_count": 2,
   "metadata": {},
   "outputs": [],
   "source": [
    "def create_df(table):\n",
    "    num_row = len(table.rows)\n",
    "    num_col = len(table.rows[0].cells)\n",
    "    for i in range(num_row):\n",
    "        row = table.rows[i]\n",
    "        if i == 0:\n",
    "            header = [x.text.strip() for x in row.cells]\n",
    "            data = {x:[] for x in header}\n",
    "        else:\n",
    "            for j in range(num_col):\n",
    "                key = header[j]\n",
    "                item = row.cells[j].text.strip()\n",
    "                data[key].append(item)\n",
    "    df = pd.DataFrame(data)\n",
    "    return df"
   ]
  },
  {
   "cell_type": "code",
   "execution_count": 3,
   "metadata": {},
   "outputs": [],
   "source": [
    "from bs4 import BeautifulSoup\n",
    "import re\n",
    "import requests"
   ]
  },
  {
   "cell_type": "code",
   "execution_count": 4,
   "metadata": {},
   "outputs": [],
   "source": [
    "USER_AGENT = 'Mozilla/5.0 (Windows NT 10.0; Win64; x64) AppleWebKit/537.36 (KHTML, like Gecko) Chrome/103.0.0.0 Safari/537.36'"
   ]
  },
  {
   "cell_type": "code",
   "execution_count": 5,
   "metadata": {},
   "outputs": [],
   "source": [
    "def get_url(url):\n",
    "    headers = {\n",
    "        'User-Agent': USER_AGENT\n",
    "    }\n",
    "    response = requests.get(url, headers=headers)\n",
    "    soup = BeautifulSoup(response.text, 'html.parser')\n",
    "    url = soup.find('img', {'class': 'exImg'})['data-url_male']\n",
    "    return url"
   ]
  },
  {
   "cell_type": "code",
   "execution_count": 6,
   "metadata": {},
   "outputs": [],
   "source": [
    "from alive_progress import alive_it, config_handler"
   ]
  },
  {
   "cell_type": "code",
   "execution_count": 7,
   "metadata": {},
   "outputs": [],
   "source": [
    "config_handler.set_global(\n",
    "    length=75,\n",
    "    spinner='classic',\n",
    "    bar='classic2',\n",
    "    force_tty=True,\n",
    "    dual_line=True\n",
    ")"
   ]
  },
  {
   "cell_type": "code",
   "execution_count": 8,
   "metadata": {},
   "outputs": [],
   "source": [
    "def get_images(df):\n",
    "    links = list(df['Link'])\n",
    "    results = alive_it(links)\n",
    "    images = []\n",
    "    for index, result in enumerate(results):\n",
    "        url = get_url(result)\n",
    "        images.append(url)\n",
    "    return images"
   ]
  },
  {
   "cell_type": "code",
   "execution_count": 9,
   "metadata": {},
   "outputs": [
    {
     "name": "stdout",
     "output_type": "stream",
     "text": [
      "[###########################################################################] 10/10 [100%] in 18.5s (0.54/s)            \n"
     ]
    }
   ],
   "source": [
    "# def create_json():\n",
    "file_path = Path.cwd() / 'workout.docx'\n",
    "document = Document(file_path)\n",
    "tables = document.tables\n",
    "\n",
    "#keys = ['day1', 'day2', 'day3', 'day4']\n",
    "#for table in tables:\n",
    "    \n",
    "table = tables[0]\n",
    "df = create_df(table)\n",
    "df['Image'] = get_images(df)\n",
    "\n",
    "output_path = Path.cwd() / 'data.json'\n",
    "df.to_json(output_path, orient='records')"
   ]
  },
  {
   "cell_type": "code",
   "execution_count": null,
   "metadata": {},
   "outputs": [],
   "source": []
  },
  {
   "cell_type": "code",
   "execution_count": null,
   "metadata": {},
   "outputs": [],
   "source": []
  }
 ],
 "metadata": {
  "kernelspec": {
   "display_name": "Python 3",
   "language": "python",
   "name": "python3"
  },
  "language_info": {
   "codemirror_mode": {
    "name": "ipython",
    "version": 3
   },
   "file_extension": ".py",
   "mimetype": "text/x-python",
   "name": "python",
   "nbconvert_exporter": "python",
   "pygments_lexer": "ipython3",
   "version": "3.7.6"
  }
 },
 "nbformat": 4,
 "nbformat_minor": 2
}
